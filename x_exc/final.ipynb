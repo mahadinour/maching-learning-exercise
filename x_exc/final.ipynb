{
 "cells": [
  {
   "cell_type": "code",
   "execution_count": 116,
   "metadata": {},
   "outputs": [],
   "source": [
    "def stuffing(flag, stuffElement, data):\n",
    "    x = data.split(flag)\n",
    "    stuffed = (stuffElement + flag).join(x)\n",
    "    return stuffed"
   ]
  },
  {
   "cell_type": "code",
   "execution_count": 117,
   "metadata": {},
   "outputs": [],
   "source": [
    "def de_stuffing(flag, stuffElement, data):\n",
    "    x = data.split(stuffElement + flag)\n",
    "    deStuffed = flag.join(x)\n",
    "    return deStuffed"
   ]
  },
  {
   "cell_type": "code",
   "execution_count": 118,
   "metadata": {},
   "outputs": [],
   "source": [
    "def xor(a, b):\n",
    "    result = []\n",
    "    for i in range(1, len(b)):\n",
    "        if a[i] == b[i]:\n",
    "            result.append('0')\n",
    "        else:\n",
    "            result.append('1')\n",
    "    return ''.join(result)"
   ]
  },
  {
   "cell_type": "code",
   "execution_count": 119,
   "metadata": {},
   "outputs": [],
   "source": [
    "def mod2div(dividend, divisor):\n",
    "    pick = len(divisor)\n",
    "    tmp = dividend[0: pick]\n",
    "\n",
    "    while pick < len(dividend):\n",
    "        if tmp[0] == '1':\n",
    "            tmp = xor(divisor, tmp) + dividend[pick]\n",
    "        else:\n",
    "            tmp = xor('0' * pick, tmp) + dividend[pick]\n",
    "        pick += 1\n",
    "\n",
    "    if tmp[0] == '1':\n",
    "        tmp = xor(divisor, tmp)\n",
    "    else:\n",
    "        tmp = xor('0' * pick, tmp)\n",
    "    checkword = tmp\n",
    "    return checkword\n"
   ]
  },
  {
   "cell_type": "code",
   "execution_count": 120,
   "metadata": {},
   "outputs": [],
   "source": [
    "def encodeData(data, key):\n",
    "    l_key = len(key)\n",
    "    appended_data = data + '0' * (l_key - 1)\n",
    "    remainder = mod2div(appended_data, key)\n",
    "    codeword = data + remainder\n",
    "    print(\"Remainder : \", remainder)\n",
    "    print(\"data : \", data)\n",
    "    print(\"Encoded Data : \", codeword)\n",
    "    x_name = \"time \\n (one single squre = 1 unit)\"\n",
    "    y_name = \"peak \"\n",
    "    title_name = \"after reciving data\"\n",
    "    diagrm(codeword,x_name, y_name, title_name)"
   ]
  },
  {
   "cell_type": "code",
   "execution_count": 121,
   "metadata": {},
   "outputs": [],
   "source": [
    "def diagrm(y1,x_name, y_name, title_name):\n",
    "    y = list(y1)\n",
    "    y2 = []\n",
    "    for i in range(len(y1)):\n",
    "        t = int(y1[i])\n",
    "        y2.append(t)\n",
    "\n",
    "    x = []\n",
    "    for i in range(len(y2)):\n",
    "        x.append(i)\n",
    "\n",
    "    import matplotlib.pyplot as plt\n",
    "    plt.xlabel(x_name)\n",
    "    plt.ylabel(y_name)\n",
    "    plt.title(title_name)\n",
    "    plt.grid()\n",
    "    plt.step(x, y2)\n",
    "    plt.figure(figsize=(10, 15))\n",
    "    plt.show()"
   ]
  },
  {
   "cell_type": "code",
   "execution_count": 122,
   "metadata": {},
   "outputs": [],
   "source": [
    "if __name__ == \"__main__\":\n",
    "    data = input(\"enter your massaage : \")\n",
    "    flag = input(\"which point you encrypt\")\n",
    "    stuffElement = input(\"your encrypt data\")"
   ]
  },
  {
   "cell_type": "code",
   "execution_count": 123,
   "metadata": {},
   "outputs": [
    {
     "name": "stdout",
     "output_type": "stream",
     "text": [
      "+++++++++++++++++++++++++++++++++++++++++++\n",
      "main data : 111100010001\n"
     ]
    },
    {
     "data": {
      "image/png": "[encoded data removed]",
      "text/plain": [
       "<Figure size 432x288 with 1 Axes>"
      ]
     },
     "metadata": {
      "needs_background": "light"
     },
     "output_type": "display_data"
    },
    {
     "data": {
      "text/plain": [
       "<Figure size 720x1080 with 0 Axes>"
      ]
     },
     "metadata": {},
     "output_type": "display_data"
    }
   ],
   "source": [
    "print('+++++++++++++++++++++++++++++++++++++++++++')\n",
    "print(\"main data : \" + data)\n",
    "x_name = \"time  \\n (one single squre = 1 unit)\"\n",
    "y_name = \"peak\"\n",
    "title_name = \"main data\"\n",
    "diagrm(data, x_name, y_name, title_name)"
   ]
  },
  {
   "cell_type": "code",
   "execution_count": 124,
   "metadata": {},
   "outputs": [
    {
     "name": "stdout",
     "output_type": "stream",
     "text": [
      "+++++++++++++++++++++++++++++++++++++++++++\n",
      "After stuffing: 1111111110001111110001\n"
     ]
    },
    {
     "data": {
      "image/png": "[encoded data removed]",
      "text/plain": [
       "<Figure size 432x288 with 1 Axes>"
      ]
     },
     "metadata": {
      "needs_background": "light"
     },
     "output_type": "display_data"
    },
    {
     "data": {
      "text/plain": [
       "<Figure size 720x1080 with 0 Axes>"
      ]
     },
     "metadata": {},
     "output_type": "display_data"
    }
   ],
   "source": [
    "print('+++++++++++++++++++++++++++++++++++++++++++')\n",
    "stuffed = stuffing(flag, stuffElement, data)\n",
    "print(\"After stuffing: \" + stuffed)\n",
    "x_name = \"time \\n (one single squre = 1 unit)\"\n",
    "y_name = \"peak\"\n",
    "title_name = \"encryption data \"\n",
    "diagrm(stuffed,x_name, y_name, title_name)"
   ]
  },
  {
   "cell_type": "code",
   "execution_count": 125,
   "metadata": {},
   "outputs": [
    {
     "name": "stdout",
     "output_type": "stream",
     "text": [
      "+++++++++++++++++++++++++++++++++++++++++++\n",
      "After de-stuffing: 111100010001\n"
     ]
    },
    {
     "data": {
      "image/png": "[encoded data removed]",
      "text/plain": [
       "<Figure size 432x288 with 1 Axes>"
      ]
     },
     "metadata": {
      "needs_background": "light"
     },
     "output_type": "display_data"
    },
    {
     "data": {
      "text/plain": [
       "<Figure size 720x1080 with 0 Axes>"
      ]
     },
     "metadata": {},
     "output_type": "display_data"
    }
   ],
   "source": [
    "print('+++++++++++++++++++++++++++++++++++++++++++')\n",
    "deStuffed = de_stuffing(flag, stuffElement, stuffed)\n",
    "print(\"After de-stuffing: \" + deStuffed)\n",
    "x_name = \"time \\n (one single squre = 1 unit) \"\n",
    "y_name = \"peak\"\n",
    "title_name = \"decryption data\"\n",
    "diagrm(deStuffed, x_name, y_name, title_name)"
   ]
  },
  {
   "cell_type": "code",
   "execution_count": 126,
   "metadata": {},
   "outputs": [
    {
     "name": "stdout",
     "output_type": "stream",
     "text": [
      "+++++++++++++++++++++++++++++++++++++++++++\n",
      "Remainder :  111\n",
      "data :  111100010001\n",
      "Encoded Data :  111100010001111\n"
     ]
    },
    {
     "data": {
      "image/png": "[encoded data removed]",
      "text/plain": [
       "<Figure size 432x288 with 1 Axes>"
      ]
     },
     "metadata": {
      "needs_background": "light"
     },
     "output_type": "display_data"
    },
    {
     "data": {
      "text/plain": [
       "<Figure size 720x1080 with 0 Axes>"
      ]
     },
     "metadata": {},
     "output_type": "display_data"
    }
   ],
   "source": [
    "print('+++++++++++++++++++++++++++++++++++++++++++')\n",
    "key = \"1101\"\n",
    "encodeData(data, key)"
   ]
  }
 ],
 "metadata": {
  "kernelspec": {
   "display_name": "Python 3.9.7 ('base')",
   "language": "python",
   "name": "python3"
  },
  "language_info": {
   "codemirror_mode": {
    "name": "ipython",
    "version": 3
   },
   "file_extension": ".py",
   "mimetype": "text/x-python",
   "name": "python",
   "nbconvert_exporter": "python",
   "pygments_lexer": "ipython3",
   "version": "3.9.7"
  },
  "orig_nbformat": 4,
  "vscode": {
   "interpreter": {
    "hash": "ad2bdc8ecc057115af97d19610ffacc2b4e99fae6737bb82f5d7fb13d2f2c186"
   }
  }
 },
 "nbformat": 4,
 "nbformat_minor": 2
}
